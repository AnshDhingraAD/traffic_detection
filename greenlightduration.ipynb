{
  "nbformat": 4,
  "nbformat_minor": 0,
  "metadata": {
    "colab": {
      "provenance": [],
      "authorship_tag": "ABX9TyON/GLdRYcPoq+eDAZx1zzZ",
      "include_colab_link": true
    },
    "kernelspec": {
      "name": "python3",
      "display_name": "Python 3"
    },
    "language_info": {
      "name": "python"
    }
  },
  "cells": [
    {
      "cell_type": "markdown",
      "metadata": {
        "id": "view-in-github",
        "colab_type": "text"
      },
      "source": [
        "<a href=\"https://colab.research.google.com/github/AnshDhingraAD/traffic_detection/blob/main/greenlightduration.ipynb\" target=\"_parent\"><img src=\"https://colab.research.google.com/assets/colab-badge.svg\" alt=\"Open In Colab\"/></a>"
      ]
    },
    {
      "cell_type": "code",
      "execution_count": null,
      "metadata": {
        "colab": {
          "base_uri": "https://localhost:8080/"
        },
        "id": "kvZEEfIQECQA",
        "outputId": "9e8aa5d2-d079-4144-f9e8-d89e9ade6635"
      },
      "outputs": [
        {
          "output_type": "stream",
          "name": "stdout",
          "text": [
            "Green light duration: 51.80 seconds\n"
          ]
        }
      ],
      "source": [
        "import math\n",
        "\n",
        "# Constants\n",
        "k = 10  # Scaling factor for queue length\n",
        "carWeight = 1\n",
        "truckWeight = 3\n",
        "busWeight = 2.75\n",
        "bikeWeight = 0.65\n",
        "maxGreenDuration = 120  # Maximum green light duration (seconds)\n",
        "baseDuration = 30  # Minimum green light duration (seconds)\n",
        "w1 = 0.6  # Weight for queue duration\n",
        "w2 = 0.4  # Weight for vehicle duration\n",
        "\n",
        "# Function to calculate the queue duration (based on logarithmic scale)\n",
        "def calculate_queue_duration(queue_length):\n",
        "    return k * math.log(queue_length + 1)\n",
        "\n",
        "# Function to calculate the vehicle type duration\n",
        "def calculate_vehicle_duration(numCars, numTrucks, numBuses, numBikes):\n",
        "    return (numCars * carWeight) + (numTrucks * truckWeight) + (numBuses * busWeight) + (numBikes * bikeWeight)\n",
        "\n",
        "# Function to calculate the AQI impact\n",
        "def calculate_aqi_impact(aqi):\n",
        "    # For AQI > 300, the duration should be reduced by half, and it will not be reduced below 50%\n",
        "    return max(1 - (aqi - 100) / 200, 0.5)\n",
        "\n",
        "# Function to calculate the emergency vehicle impact\n",
        "def calculate_ev_impact(numEmergencyVehicles):\n",
        "    return 1 + (numEmergencyVehicles * 0.7)\n",
        "\n",
        "# Main function to calculate the green light duration\n",
        "def calculate_green_light_duration(queue_length, numCars, numTrucks, numBuses, numBikes, aqi, numEmergencyVehicles):\n",
        "    # Step 1: Calculate the queue duration using logarithmic scaling\n",
        "    queue_duration = calculate_queue_duration(queue_length)\n",
        "\n",
        "    # Step 2: Calculate the vehicle type duration based on vehicle count\n",
        "    vehicle_duration = calculate_vehicle_duration(numCars, numTrucks, numBuses, numBikes)\n",
        "\n",
        "    # Step 3: Calculate the AQI impact (adjustment based on air quality)\n",
        "    aqi_impact = calculate_aqi_impact(aqi)\n",
        "\n",
        "    # Step 4: Calculate the emergency vehicle impact\n",
        "    ev_impact = calculate_ev_impact(numEmergencyVehicles)\n",
        "\n",
        "    # Step 5: Combine all factors to get the green light duration with weights and limits\n",
        "    weighted_duration = (w1 * queue_duration + w2 * vehicle_duration) * aqi_impact * ev_impact\n",
        "    green_light_duration = min(maxGreenDuration, max(baseDuration, weighted_duration))\n",
        "\n",
        "    return green_light_duration\n",
        "\n",
        "# Example usage\n",
        "queue_length = 20  # Number of vehicles in the queue\n",
        "numCars = 10\n",
        "numTrucks = 5\n",
        "numBuses = 5\n",
        "numBikes = 8  # Number of bikes\n",
        "aqi = 130  # Air Quality Index\n",
        "numEmergencyVehicles = 1  # Number of emergency vehicles present\n",
        "\n",
        "# Calculate the green light duration\n",
        "green_light_duration = calculate_green_light_duration(queue_length, numCars, numTrucks, numBuses, numBikes, aqi, numEmergencyVehicles)\n",
        "\n",
        "# Output the result\n",
        "print(f\"Green light duration: {green_light_duration:.2f} seconds\")\n"
      ]
    }
  ]
}