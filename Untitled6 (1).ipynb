{
  "nbformat": 4,
  "nbformat_minor": 0,
  "metadata": {
    "colab": {
      "provenance": []
    },
    "kernelspec": {
      "name": "python3",
      "display_name": "Python 3"
    },
    "language_info": {
      "name": "python"
    }
  },
  "cells": [
    {
      "cell_type": "code",
      "source": [
        "import torch\n",
        "import cv2\n",
        "import numpy as np\n",
        "from google.colab.patches import cv2_imshow  # Import cv2_imshow for Colab\n",
        "\n",
        "# Load the YOLOv5 model\n",
        "model = torch.hub.load('ultralytics/yolov5', 'yolov5s')  # You can also use 'yolov5m', 'yolov5l', or 'yolov5x'\n",
        "\n",
        "# Set the video source\n",
        "video_path = r\"/content/2103099-uhd_3840_2160_30fps.mp4\"\n",
        "cap = cv2.VideoCapture(video_path)\n",
        "\n",
        "# Initialize counters for vehicle types\n",
        "car_count = 0\n",
        "truck_count = 0\n",
        "bike_count = 0\n",
        "\n",
        "while cap.isOpened():\n",
        "    ret, frame = cap.read()\n",
        "    if not ret:\n",
        "        break\n",
        "\n",
        "    # Perform inference\n",
        "    results = model(frame)\n",
        "\n",
        "    # Process the results\n",
        "    df = results.pandas().xyxy[0]  # Extract predictions as a DataFrame\n",
        "\n",
        "    for index, row in df.iterrows():\n",
        "        x1, y1, x2, y2, conf, cls = row[['xmin', 'ymin', 'xmax', 'ymax', 'confidence', 'class']].values\n",
        "\n",
        "        label = f'{model.names[int(cls)]}: {conf:.2f}'  # Class label with confidence\n",
        "\n",
        "        # Count vehicles based on class\n",
        "        if model.names[int(cls)] == 'car':\n",
        "            car_count += 1\n",
        "        elif model.names[int(cls)] == 'truck':\n",
        "            truck_count += 1\n",
        "        elif model.names[int(cls)] == 'motorcycle':\n",
        "            bike_count += 1\n",
        "\n",
        "        # Draw bounding box and label on the frame\n",
        "        cv2.rectangle(frame, (int(x1), int(y1)), (int(x2), int(y2)), (0, 255, 0), 2)\n",
        "        cv2.putText(frame, label, (int(x1), int(y1) - 10), cv2.FONT_HERSHEY_SIMPLEX, 0.5, (0, 255, 0), 2)\n",
        "\n",
        "    # Display vehicle counts on the frame\n",
        "    cv2.putText(frame, f'Total Cars: {car_count}', (10, 30), cv2.FONT_HERSHEY_SIMPLEX, 0.5, (255, 0, 0), 2)\n",
        "    cv2.putText(frame, f'Total Trucks: {truck_count}', (10, 50), cv2.FONT_HERSHEY_SIMPLEX, 0.5, (255, 0, 0), 2)\n",
        "    cv2.putText(frame, f'Total Bikes: {bike_count}', (10, 70), cv2.FONT_HERSHEY_SIMPLEX, 0.5, (255, 0, 0), 2)\n",
        "\n",
        "    # Show the frame with detections using cv2_imshow\n",
        "    cv2_imshow(frame)\n",
        "\n",
        "    # Optional: Add a delay to control the frame rate (e.g., 1 ms)\n",
        "    if cv2.waitKey(1) & 0xFF == ord('q'):\n",
        "        break\n",
        "\n",
        "cap.release()\n"
      ],
      "metadata": {
        "id": "dS_g8lnD-IKO"
      },
      "execution_count": null,
      "outputs": []
    }
  ]
}